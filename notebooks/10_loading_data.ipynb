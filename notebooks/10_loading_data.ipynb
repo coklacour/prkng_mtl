{
 "cells": [
  {
   "cell_type": "markdown",
   "id": "524ab6ed",
   "metadata": {},
   "source": [
    "# This file is part of the prkng_mtl project.\n",
    "#\n",
    "# Copyright (C) 2025 coklacour\n",
    "#\n",
    "# The prkng_mtl project is free software: you can redistribute it and/or modify\n",
    "# it under the terms of the GNU General Public License as published by\n",
    "# the Free Software Foundation, either version 3 of the License, or\n",
    "# (at your option) any later version.\n",
    "#\n",
    "# The prkng_mtl project is distributed in the hope that it will be useful,\n",
    "# but WITHOUT ANY WARRANTY; without even the implied warranty of\n",
    "# MERCHANTABILITY or FITNESS FOR A PARTICULAR PURPOSE.  See the\n",
    "# GNU General Public License for more details.\n",
    "#\n",
    "# You should have received a copy of the GNU General Public License\n",
    "# along with this program.  If not, see <https://www.gnu.org/licenses/>."
   ]
  },
  {
   "cell_type": "markdown",
   "id": "28ed7006",
   "metadata": {},
   "source": [
    "## Packages"
   ]
  },
  {
   "cell_type": "code",
   "execution_count": 1,
   "id": "266c50b2",
   "metadata": {},
   "outputs": [],
   "source": [
    "import os\n",
    "import requests\n",
    "import pandas as pd\n",
    "from tqdm import tqdm"
   ]
  },
  {
   "cell_type": "markdown",
   "id": "36ec8756",
   "metadata": {},
   "source": [
    "## Macro variables"
   ]
  },
  {
   "cell_type": "code",
   "execution_count": 2,
   "id": "d3dd1f2f",
   "metadata": {},
   "outputs": [],
   "source": [
    "OUTPUT_DIR = os.path.dirname(os.path.abspath(''))+'/datas/raw/'"
   ]
  },
  {
   "cell_type": "markdown",
   "id": "a2345e7f",
   "metadata": {},
   "source": [
    "## Fonctions"
   ]
  },
  {
   "cell_type": "code",
   "execution_count": 3,
   "id": "8c4914cd",
   "metadata": {},
   "outputs": [],
   "source": [
    "def fetch_ckan_data(resource_id: str, output_name: str, output_dir: str = \".\") -> pd.DataFrame:\n",
    "    \"\"\"\n",
    "    Télécharger les données d'une ressource CKAN en utilisant la pagination.\n",
    "    \n",
    "    Args:\n",
    "        resource_id (str): L'identifiant de la ressource CKAN.\n",
    "        output_name (str): Le nom de fichier de sortie (sans extension).\n",
    "        output_dir (str): Le répertoire de sortie. Par défaut, le répertoire courant.\n",
    "    \n",
    "    Returns:\n",
    "        pd.DataFrame: Le DataFrame contenant les données téléchargées.\n",
    "    \"\"\"\n",
    "    \n",
    "    base_url = \"https://www.donneesquebec.ca/recherche/api/3/action/datastore_search\"\n",
    "    limit = 5000\n",
    "    offset = 0\n",
    "    all_records = []\n",
    "\n",
    "    # Récupération du nombre total d’enregistrements\n",
    "    try:\n",
    "        response = requests.get(base_url, params={\"resource_id\": resource_id, \"limit\": 1})\n",
    "        response.raise_for_status()\n",
    "        total = response.json()[\"result\"][\"total\"]\n",
    "    except Exception as e:\n",
    "        raise RuntimeError(f\"Erreur lors de la récupération du total: {e}\")\n",
    "\n",
    "    # Téléchargement par pagination\n",
    "    pbar = tqdm(total=total, desc=f\"Téléchargement de {output_name}\")\n",
    "\n",
    "    while offset < total:\n",
    "        try:\n",
    "            response = requests.get(base_url, params={\n",
    "                \"resource_id\": resource_id,\n",
    "                \"limit\": limit,\n",
    "                \"offset\": offset\n",
    "            })\n",
    "            response.raise_for_status()\n",
    "            data = response.json()\n",
    "            if not data.get(\"success\"):\n",
    "                raise ValueError(f\"Requête échouée: {data}\")\n",
    "            records = data[\"result\"][\"records\"]\n",
    "            all_records.extend(records)\n",
    "            offset += limit\n",
    "            pbar.update(len(records))\n",
    "        except Exception as e:\n",
    "            print(f\"Erreur lors du téléchargement à l'offset {offset}: {e}\")\n",
    "            break\n",
    "\n",
    "    pbar.close()\n",
    "\n",
    "    df = pd.DataFrame(all_records)\n",
    "    print(f\"Téléchargement terminé. {df.shape[0]} lignes récupérées.\")\n",
    "\n",
    "    # Sauvegarde CSV\n",
    "    output_path = os.path.join(output_dir, f\"{output_name}.csv\")\n",
    "    df.to_csv(output_path, index=False)\n",
    "    print(f\"Fichier CSV sauvegardé : {output_path}\")\n",
    "\n",
    "    return"
   ]
  },
  {
   "cell_type": "markdown",
   "id": "2c1df9f1",
   "metadata": {},
   "source": [
    "## Import données"
   ]
  },
  {
   "cell_type": "markdown",
   "id": "e0c3a91b",
   "metadata": {},
   "source": [
    "https://www.donneesquebec.ca/page-api/"
   ]
  },
  {
   "cell_type": "markdown",
   "id": "14a9e8fe",
   "metadata": {},
   "source": [
    "### Signalisation- Stationnement"
   ]
  },
  {
   "cell_type": "markdown",
   "id": "aa31cea1",
   "metadata": {},
   "source": [
    "https://donnees.montreal.ca/dataset/stationnement-sur-rue-signalisation-courant"
   ]
  },
  {
   "cell_type": "code",
   "execution_count": 4,
   "id": "3972811c",
   "metadata": {},
   "outputs": [],
   "source": [
    "# Identifiant de la ressource CKAN\n",
    "resource_id = \"7f1d4ae9-1a12-46d7-953e-6b9c18c78680\"\n",
    "output_name = 'park'\n",
    "output_dir = OUTPUT_DIR"
   ]
  },
  {
   "cell_type": "code",
   "execution_count": 5,
   "id": "b1bdf739",
   "metadata": {},
   "outputs": [
    {
     "name": "stderr",
     "output_type": "stream",
     "text": [
      "Téléchargement de park: 100%|██████████| 169622/169622 [01:54<00:00, 1484.44it/s]\n"
     ]
    },
    {
     "name": "stdout",
     "output_type": "stream",
     "text": [
      "Téléchargement terminé. 169622 lignes récupérées.\n",
      "Fichier CSV sauvegardé : /Users/jeremiealluard/git/Projects/prkng_mtl/datas/raw/park.csv\n"
     ]
    }
   ],
   "source": [
    "fetch_ckan_data(resource_id=resource_id,\n",
    "                output_name=output_name,\n",
    "                output_dir=OUTPUT_DIR)"
   ]
  },
  {
   "cell_type": "markdown",
   "id": "eb3c4244",
   "metadata": {},
   "source": [
    "### Poteaux de signalisation"
   ]
  },
  {
   "cell_type": "markdown",
   "id": "4be34c11",
   "metadata": {},
   "source": [
    "https://donnees.montreal.ca/dataset/poteaux-signalisation"
   ]
  },
  {
   "cell_type": "code",
   "execution_count": 6,
   "id": "d03762f8",
   "metadata": {},
   "outputs": [],
   "source": [
    "# Identifiant de la ressource CKAN\n",
    "resource_id = \"091a3d3a-716c-44d7-b1c0-3144d6953f66\"\n",
    "output_name = 'signs'\n",
    "output_dir = OUTPUT_DIR"
   ]
  },
  {
   "cell_type": "code",
   "execution_count": 7,
   "id": "e59ef638",
   "metadata": {},
   "outputs": [
    {
     "name": "stderr",
     "output_type": "stream",
     "text": [
      "Téléchargement de signs: 100%|██████████| 178607/178607 [01:43<00:00, 1726.58it/s]\n"
     ]
    },
    {
     "name": "stdout",
     "output_type": "stream",
     "text": [
      "Téléchargement terminé. 178607 lignes récupérées.\n",
      "Fichier CSV sauvegardé : /Users/jeremiealluard/git/Projects/prkng_mtl/datas/raw/signs.csv\n"
     ]
    }
   ],
   "source": [
    "fetch_ckan_data(resource_id=resource_id,\n",
    "                output_name=output_name,\n",
    "                output_dir=OUTPUT_DIR)"
   ]
  },
  {
   "cell_type": "markdown",
   "id": "e49fada0",
   "metadata": {},
   "source": [
    "### Géobase - noeuds"
   ]
  },
  {
   "cell_type": "markdown",
   "id": "fb5680a5",
   "metadata": {},
   "source": [
    "https://donnees.montreal.ca/dataset/geobase-noeud"
   ]
  },
  {
   "cell_type": "code",
   "execution_count": 8,
   "id": "c165e904",
   "metadata": {},
   "outputs": [],
   "source": [
    "# Identifiant de la ressource CKAN\n",
    "resource_id = \"76d89dae-7596-4b3f-af25-6ad9a3c36beb\"\n",
    "output_name = 'nodes'\n",
    "output_dir = OUTPUT_DIR"
   ]
  },
  {
   "cell_type": "code",
   "execution_count": 9,
   "id": "10fd39a3",
   "metadata": {},
   "outputs": [
    {
     "name": "stderr",
     "output_type": "stream",
     "text": [
      "Téléchargement de nodes: 100%|██████████| 31578/31578 [00:17<00:00, 1855.24it/s]"
     ]
    },
    {
     "name": "stdout",
     "output_type": "stream",
     "text": [
      "Téléchargement terminé. 31578 lignes récupérées.\n",
      "Fichier CSV sauvegardé : /Users/jeremiealluard/git/Projects/prkng_mtl/datas/raw/nodes.csv\n"
     ]
    },
    {
     "name": "stderr",
     "output_type": "stream",
     "text": [
      "\n"
     ]
    }
   ],
   "source": [
    "fetch_ckan_data(resource_id=resource_id,\n",
    "                output_name=output_name,\n",
    "                output_dir=OUTPUT_DIR)"
   ]
  },
  {
   "cell_type": "markdown",
   "id": "befa6491",
   "metadata": {},
   "source": [
    "### Géobase - pôles"
   ]
  },
  {
   "cell_type": "markdown",
   "id": "913f198c",
   "metadata": {},
   "source": [
    "https://donnees.montreal.ca/dataset/geobase-pole"
   ]
  },
  {
   "cell_type": "code",
   "execution_count": 10,
   "id": "59ebdff0",
   "metadata": {},
   "outputs": [],
   "source": [
    "# Identifiant de la ressource CKAN\n",
    "resource_id = \"79fa1da4-0355-4ecf-8306-31361bf101c2\"\n",
    "output_name = 'poles'\n",
    "output_dir = OUTPUT_DIR"
   ]
  },
  {
   "cell_type": "code",
   "execution_count": 11,
   "id": "8e38f640",
   "metadata": {},
   "outputs": [
    {
     "name": "stderr",
     "output_type": "stream",
     "text": [
      "Téléchargement de poles: 100%|██████████| 95774/95774 [00:45<00:00, 2110.51it/s]\n"
     ]
    },
    {
     "name": "stdout",
     "output_type": "stream",
     "text": [
      "Téléchargement terminé. 95774 lignes récupérées.\n",
      "Fichier CSV sauvegardé : /Users/jeremiealluard/git/Projects/prkng_mtl/datas/raw/poles.csv\n"
     ]
    }
   ],
   "source": [
    "fetch_ckan_data(resource_id=resource_id,\n",
    "                output_name=output_name,\n",
    "                output_dir=OUTPUT_DIR)"
   ]
  },
  {
   "cell_type": "markdown",
   "id": "45f852d0",
   "metadata": {},
   "source": [
    "### Géobase double - côtés de rue du réseau routier"
   ]
  },
  {
   "cell_type": "markdown",
   "id": "5c6692f7",
   "metadata": {},
   "source": [
    "https://donnees.montreal.ca/dataset/geobase-double"
   ]
  },
  {
   "cell_type": "code",
   "execution_count": 12,
   "id": "ff433552",
   "metadata": {},
   "outputs": [],
   "source": [
    "# Identifiant de la ressource CKAN\n",
    "resource_id = \"2f1717e9-0141-48ef-8943-ea348373667f\"\n",
    "output_name = 'double'\n",
    "output_dir = OUTPUT_DIR"
   ]
  },
  {
   "cell_type": "code",
   "execution_count": 13,
   "id": "7b15c45e",
   "metadata": {},
   "outputs": [
    {
     "name": "stderr",
     "output_type": "stream",
     "text": [
      "Téléchargement de double: 100%|██████████| 91344/91344 [00:43<00:00, 2096.18it/s]\n"
     ]
    },
    {
     "name": "stdout",
     "output_type": "stream",
     "text": [
      "Téléchargement terminé. 91344 lignes récupérées.\n",
      "Fichier CSV sauvegardé : /Users/jeremiealluard/git/Projects/prkng_mtl/datas/raw/double.csv\n"
     ]
    }
   ],
   "source": [
    "fetch_ckan_data(resource_id=resource_id,\n",
    "                output_name=output_name,\n",
    "                output_dir=OUTPUT_DIR)"
   ]
  },
  {
   "cell_type": "markdown",
   "id": "a9317ecc",
   "metadata": {},
   "source": [
    "### Géobase - réseau routier"
   ]
  },
  {
   "cell_type": "markdown",
   "id": "485b27be",
   "metadata": {},
   "source": [
    "https://donnees.montreal.ca/dataset/geobase"
   ]
  },
  {
   "cell_type": "code",
   "execution_count": 14,
   "id": "223da50e",
   "metadata": {},
   "outputs": [],
   "source": [
    "# Identifiant de la ressource CKAN\n",
    "resource_id = \"cdf491fa-bf3d-4eb1-8692-c9aa1df462cd\"\n",
    "output_name = 'geobase'\n",
    "output_dir = OUTPUT_DIR"
   ]
  },
  {
   "cell_type": "code",
   "execution_count": 15,
   "id": "e85c0a79",
   "metadata": {},
   "outputs": [
    {
     "name": "stderr",
     "output_type": "stream",
     "text": [
      "Téléchargement de geobase: 100%|██████████| 47887/47887 [00:29<00:00, 1608.20it/s]\n"
     ]
    },
    {
     "name": "stdout",
     "output_type": "stream",
     "text": [
      "Téléchargement terminé. 47887 lignes récupérées.\n",
      "Fichier CSV sauvegardé : /Users/jeremiealluard/git/Projects/prkng_mtl/datas/raw/geobase.csv\n"
     ]
    }
   ],
   "source": [
    "fetch_ckan_data(resource_id=resource_id,\n",
    "                output_name=output_name,\n",
    "                output_dir=OUTPUT_DIR)"
   ]
  }
 ],
 "metadata": {
  "kernelspec": {
   "display_name": "prkng-mtl-o2MIPe8o-py3.11",
   "language": "python",
   "name": "python3"
  },
  "language_info": {
   "codemirror_mode": {
    "name": "ipython",
    "version": 3
   },
   "file_extension": ".py",
   "mimetype": "text/x-python",
   "name": "python",
   "nbconvert_exporter": "python",
   "pygments_lexer": "ipython3",
   "version": "3.11.7"
  }
 },
 "nbformat": 4,
 "nbformat_minor": 5
}
