{
 "cells": [
  {
   "cell_type": "code",
   "execution_count": null,
   "id": "0",
   "metadata": {},
   "outputs": [],
   "source": [
    "# This file is part of the prkng_mtl project.\n",
    "#\n",
    "# Copyright (C) 2025 coklacour\n",
    "#\n",
    "# The prkng_mtl project is free software: you can redistribute it and/or modify\n",
    "# it under the terms of the GNU General Public License as published by\n",
    "# the Free Software Foundation, either version 3 of the License, or\n",
    "# (at your option) any later version.\n",
    "#\n",
    "# The prkng_mtl project is distributed in the hope that it will be useful,\n",
    "# but WITHOUT ANY WARRANTY; without even the implied warranty of\n",
    "# MERCHANTABILITY or FITNESS FOR A PARTICULAR PURPOSE.  See the\n",
    "# GNU General Public License for more details.\n",
    "#\n",
    "# You should have received a copy of the GNU General Public License\n",
    "# along with this program.  If not, see <https://www.gnu.org/licenses/>."
   ]
  },
  {
   "cell_type": "markdown",
   "id": "1",
   "metadata": {},
   "source": [
    "## Packages"
   ]
  },
  {
   "cell_type": "code",
   "execution_count": null,
   "id": "2",
   "metadata": {},
   "outputs": [],
   "source": [
    "import os\n",
    "import requests\n",
    "import pandas as pd\n",
    "from tqdm import tqdm"
   ]
  },
  {
   "cell_type": "markdown",
   "id": "3",
   "metadata": {},
   "source": [
    "## Macro variables"
   ]
  },
  {
   "cell_type": "code",
   "execution_count": null,
   "id": "4",
   "metadata": {},
   "outputs": [],
   "source": [
    "OUTPUT_DIR = os.path.dirname(os.path.abspath(''))+'/datas/raw/'"
   ]
  },
  {
   "cell_type": "markdown",
   "id": "5",
   "metadata": {},
   "source": [
    "## Fonctions"
   ]
  },
  {
   "cell_type": "code",
   "execution_count": null,
   "id": "6",
   "metadata": {},
   "outputs": [],
   "source": [
    "def fetch_ckan_data(resource_id: str, output_name: str, output_dir: str = \".\") -> pd.DataFrame:\n",
    "    \"\"\"\n",
    "    Télécharger les données d'une ressource CKAN en utilisant la pagination.\n",
    "    \n",
    "    Args:\n",
    "        resource_id (str): L'identifiant de la ressource CKAN.\n",
    "        output_name (str): Le nom de fichier de sortie (sans extension).\n",
    "        output_dir (str): Le répertoire de sortie. Par défaut, le répertoire courant.\n",
    "    \n",
    "    Returns:\n",
    "        pd.DataFrame: Le DataFrame contenant les données téléchargées.\n",
    "    \"\"\"\n",
    "    \n",
    "    base_url = \"https://www.donneesquebec.ca/recherche/api/3/action/datastore_search\"\n",
    "    limit = 5000\n",
    "    offset = 0\n",
    "    all_records = []\n",
    "\n",
    "    # Récupération du nombre total d’enregistrements\n",
    "    try:\n",
    "        response = requests.get(base_url, params={\"resource_id\": resource_id, \"limit\": 1})\n",
    "        response.raise_for_status()\n",
    "        total = response.json()[\"result\"][\"total\"]\n",
    "    except Exception as e:\n",
    "        raise RuntimeError(f\"Erreur lors de la récupération du total: {e}\")\n",
    "\n",
    "    # Téléchargement par pagination\n",
    "    pbar = tqdm(total=total, desc=f\"Téléchargement de {output_name}\")\n",
    "\n",
    "    while offset < total:\n",
    "        try:\n",
    "            response = requests.get(base_url, params={\n",
    "                \"resource_id\": resource_id,\n",
    "                \"limit\": limit,\n",
    "                \"offset\": offset\n",
    "            })\n",
    "            response.raise_for_status()\n",
    "            data = response.json()\n",
    "            if not data.get(\"success\"):\n",
    "                raise ValueError(f\"Requête échouée: {data}\")\n",
    "            records = data[\"result\"][\"records\"]\n",
    "            all_records.extend(records)\n",
    "            offset += limit\n",
    "            pbar.update(len(records))\n",
    "        except Exception as e:\n",
    "            print(f\"Erreur lors du téléchargement à l'offset {offset}: {e}\")\n",
    "            break\n",
    "\n",
    "    pbar.close()\n",
    "\n",
    "    df = pd.DataFrame(all_records)\n",
    "    print(f\"Téléchargement terminé. {df.shape[0]} lignes récupérées.\")\n",
    "\n",
    "    # Sauvegarde CSV\n",
    "    output_path = os.path.join(output_dir, f\"{output_name}.csv\")\n",
    "    df.to_csv(output_path, index=False)\n",
    "    print(f\"Fichier CSV sauvegardé : {output_path}\")\n",
    "\n",
    "    return"
   ]
  },
  {
   "cell_type": "markdown",
   "id": "7",
   "metadata": {},
   "source": [
    "## Import données"
   ]
  },
  {
   "cell_type": "markdown",
   "id": "8",
   "metadata": {},
   "source": [
    "https://www.donneesquebec.ca/page-api/"
   ]
  },
  {
   "cell_type": "markdown",
   "id": "9",
   "metadata": {},
   "source": [
    "### Signalisation- Stationnement"
   ]
  },
  {
   "cell_type": "markdown",
   "id": "10",
   "metadata": {},
   "source": [
    "https://donnees.montreal.ca/dataset/stationnement-sur-rue-signalisation-courant"
   ]
  },
  {
   "cell_type": "code",
   "execution_count": null,
   "id": "11",
   "metadata": {},
   "outputs": [],
   "source": [
    "# Identifiant de la ressource CKAN\n",
    "resource_id = \"7f1d4ae9-1a12-46d7-953e-6b9c18c78680\"\n",
    "output_name = 'park'\n",
    "output_dir = OUTPUT_DIR"
   ]
  },
  {
   "cell_type": "code",
   "execution_count": null,
   "id": "12",
   "metadata": {},
   "outputs": [],
   "source": [
    "fetch_ckan_data(resource_id=resource_id,\n",
    "                output_name=output_name,\n",
    "                output_dir=OUTPUT_DIR)"
   ]
  },
  {
   "cell_type": "markdown",
   "id": "13",
   "metadata": {},
   "source": [
    "### Poteaux de signalisation"
   ]
  },
  {
   "cell_type": "markdown",
   "id": "14",
   "metadata": {},
   "source": [
    "https://donnees.montreal.ca/dataset/poteaux-signalisation"
   ]
  },
  {
   "cell_type": "code",
   "execution_count": null,
   "id": "15",
   "metadata": {},
   "outputs": [],
   "source": [
    "# Identifiant de la ressource CKAN\n",
    "resource_id = \"091a3d3a-716c-44d7-b1c0-3144d6953f66\"\n",
    "output_name = 'signs'\n",
    "output_dir = OUTPUT_DIR"
   ]
  },
  {
   "cell_type": "code",
   "execution_count": null,
   "id": "16",
   "metadata": {},
   "outputs": [],
   "source": [
    "fetch_ckan_data(resource_id=resource_id,\n",
    "                output_name=output_name,\n",
    "                output_dir=OUTPUT_DIR)"
   ]
  },
  {
   "cell_type": "markdown",
   "id": "17",
   "metadata": {},
   "source": [
    "### Signalisation-codification RPA des panneaux"
   ]
  },
  {
   "cell_type": "markdown",
   "id": "18",
   "metadata": {},
   "source": [
    "https://donnees.montreal.ca/dataset/poteaux-signalisation"
   ]
  },
  {
   "cell_type": "code",
   "execution_count": null,
   "id": "19",
   "metadata": {},
   "outputs": [],
   "source": [
    "# Identifiant de la ressource CKAN\n",
    "resource_id = \"1baac760-4311-4b4f-8996-db93d348cc24\"\n",
    "output_name = 'rpa'\n",
    "output_dir = OUTPUT_DIR"
   ]
  },
  {
   "cell_type": "code",
   "execution_count": null,
   "id": "20",
   "metadata": {},
   "outputs": [],
   "source": [
    "fetch_ckan_data(resource_id=resource_id,\n",
    "                output_name=output_name,\n",
    "                output_dir=OUTPUT_DIR)"
   ]
  },
  {
   "cell_type": "markdown",
   "id": "21",
   "metadata": {},
   "source": [
    "### Géobase - noeuds"
   ]
  },
  {
   "cell_type": "markdown",
   "id": "22",
   "metadata": {},
   "source": [
    "https://donnees.montreal.ca/dataset/geobase-noeud"
   ]
  },
  {
   "cell_type": "code",
   "execution_count": null,
   "id": "23",
   "metadata": {},
   "outputs": [],
   "source": [
    "# Identifiant de la ressource CKAN\n",
    "resource_id = \"76d89dae-7596-4b3f-af25-6ad9a3c36beb\"\n",
    "output_name = 'nodes'\n",
    "output_dir = OUTPUT_DIR"
   ]
  },
  {
   "cell_type": "code",
   "execution_count": null,
   "id": "24",
   "metadata": {},
   "outputs": [],
   "source": [
    "fetch_ckan_data(resource_id=resource_id,\n",
    "                output_name=output_name,\n",
    "                output_dir=OUTPUT_DIR)"
   ]
  },
  {
   "cell_type": "markdown",
   "id": "25",
   "metadata": {},
   "source": [
    "### Géobase - pôles"
   ]
  },
  {
   "cell_type": "markdown",
   "id": "26",
   "metadata": {},
   "source": [
    "https://donnees.montreal.ca/dataset/geobase-pole"
   ]
  },
  {
   "cell_type": "code",
   "execution_count": null,
   "id": "27",
   "metadata": {},
   "outputs": [],
   "source": [
    "# Identifiant de la ressource CKAN\n",
    "resource_id = \"79fa1da4-0355-4ecf-8306-31361bf101c2\"\n",
    "output_name = 'poles'\n",
    "output_dir = OUTPUT_DIR"
   ]
  },
  {
   "cell_type": "code",
   "execution_count": null,
   "id": "28",
   "metadata": {},
   "outputs": [],
   "source": [
    "fetch_ckan_data(resource_id=resource_id,\n",
    "                output_name=output_name,\n",
    "                output_dir=OUTPUT_DIR)"
   ]
  },
  {
   "cell_type": "markdown",
   "id": "29",
   "metadata": {},
   "source": [
    "### Géobase double - côtés de rue du réseau routier"
   ]
  },
  {
   "cell_type": "markdown",
   "id": "30",
   "metadata": {},
   "source": [
    "https://donnees.montreal.ca/dataset/geobase-double"
   ]
  },
  {
   "cell_type": "code",
   "execution_count": null,
   "id": "31",
   "metadata": {},
   "outputs": [],
   "source": [
    "# Identifiant de la ressource CKAN\n",
    "resource_id = \"2f1717e9-0141-48ef-8943-ea348373667f\"\n",
    "output_name = 'double'\n",
    "output_dir = OUTPUT_DIR"
   ]
  },
  {
   "cell_type": "code",
   "execution_count": null,
   "id": "32",
   "metadata": {},
   "outputs": [],
   "source": [
    "fetch_ckan_data(resource_id=resource_id,\n",
    "                output_name=output_name,\n",
    "                output_dir=OUTPUT_DIR)"
   ]
  },
  {
   "cell_type": "markdown",
   "id": "33",
   "metadata": {},
   "source": [
    "### Géobase - réseau routier"
   ]
  },
  {
   "cell_type": "markdown",
   "id": "34",
   "metadata": {},
   "source": [
    "https://donnees.montreal.ca/dataset/geobase"
   ]
  },
  {
   "cell_type": "code",
   "execution_count": null,
   "id": "35",
   "metadata": {},
   "outputs": [],
   "source": [
    "# Identifiant de la ressource CKAN\n",
    "resource_id = \"cdf491fa-bf3d-4eb1-8692-c9aa1df462cd\"\n",
    "output_name = 'geobase'\n",
    "output_dir = OUTPUT_DIR"
   ]
  },
  {
   "cell_type": "code",
   "execution_count": null,
   "id": "36",
   "metadata": {},
   "outputs": [],
   "source": [
    "fetch_ckan_data(resource_id=resource_id,\n",
    "                output_name=output_name,\n",
    "                output_dir=OUTPUT_DIR)"
   ]
  },
  {
   "cell_type": "markdown",
   "id": "37",
   "metadata": {},
   "source": [
    "### Réseau artériel administratif (RAAV)"
   ]
  },
  {
   "cell_type": "markdown",
   "id": "38",
   "metadata": {},
   "source": [
    "https://donnees.montreal.ca/fr/dataset/reseau-arteriel-administratif#resources"
   ]
  },
  {
   "cell_type": "markdown",
   "id": "39",
   "metadata": {},
   "source": [
    "Impossible de telecharger le fichier GPKG (GeoPackage) via l'API. Télécharger au prealable"
   ]
  }
 ],
 "metadata": {
  "kernelspec": {
   "display_name": "prkng-mtl-o2MIPe8o-py3.11",
   "language": "python",
   "name": "python3"
  },
  "language_info": {
   "codemirror_mode": {
    "name": "ipython",
    "version": 3
   },
   "file_extension": ".py",
   "mimetype": "text/x-python",
   "name": "python",
   "nbconvert_exporter": "python",
   "pygments_lexer": "ipython3",
   "version": "3.11.7"
  }
 },
 "nbformat": 4,
 "nbformat_minor": 5
}
