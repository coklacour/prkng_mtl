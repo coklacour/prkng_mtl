{
 "cells": [
  {
   "cell_type": "markdown",
   "id": "28ed7006",
   "metadata": {},
   "source": [
    "## Packages"
   ]
  },
  {
   "cell_type": "code",
   "execution_count": 1,
   "id": "266c50b2",
   "metadata": {},
   "outputs": [],
   "source": [
    "import os\n",
    "import requests\n",
    "import pandas as pd\n",
    "from tqdm import tqdm"
   ]
  },
  {
   "cell_type": "markdown",
   "id": "36ec8756",
   "metadata": {},
   "source": [
    "## Macro variables"
   ]
  },
  {
   "cell_type": "code",
   "execution_count": 2,
   "id": "d3dd1f2f",
   "metadata": {},
   "outputs": [],
   "source": [
    "OUTPUT_DIR = os.path.dirname(os.path.abspath(''))+'/datas/raw/'"
   ]
  },
  {
   "cell_type": "markdown",
   "id": "2c1df9f1",
   "metadata": {},
   "source": [
    "## Import données"
   ]
  },
  {
   "cell_type": "markdown",
   "id": "e0c3a91b",
   "metadata": {},
   "source": [
    "https://www.donneesquebec.ca/page-api/"
   ]
  },
  {
   "cell_type": "markdown",
   "id": "14a9e8fe",
   "metadata": {},
   "source": [
    "### Signalisation- Stationnement"
   ]
  },
  {
   "cell_type": "markdown",
   "id": "aa31cea1",
   "metadata": {},
   "source": [
    "https://www.donneesquebec.ca/recherche/dataset/vmtl-stationnement-sur-rue-signalisation-courant/resource/7f1d4ae9-1a12-46d7-953e-6b9c18c78680"
   ]
  },
  {
   "cell_type": "code",
   "execution_count": 3,
   "id": "3080afba",
   "metadata": {},
   "outputs": [
    {
     "name": "stderr",
     "output_type": "stream",
     "text": [
      "Téléchargement des données: 100%|██████████| 169622/169622 [02:04<00:00, 1367.27it/s]\n"
     ]
    },
    {
     "name": "stdout",
     "output_type": "stream",
     "text": [
      "Téléchargement terminé. 169622 lignes au total.\n"
     ]
    }
   ],
   "source": [
    "# Identifiant de la ressource CKAN\n",
    "resource_id = \"7f1d4ae9-1a12-46d7-953e-6b9c18c78680\"\n",
    "url = \"https://www.donneesquebec.ca/recherche/api/3/action/datastore_search\"\n",
    "\n",
    "# Contrôle de la pagination de l’API CKAN \n",
    "limit = 5000        # Nb de lignes que je récupère par requête\n",
    "offset = 0          # Index de départ dans le jeu de données\n",
    "all_records = []    # initialisation de la liste qui va stocker les records\n",
    "\n",
    "# 1ère requête pour connaître le nombre total de lignes\n",
    "response = requests.get(url, params={\"resource_id\": resource_id, \"limit\": 1})\n",
    "total = response.json()[\"result\"][\"total\"]\n",
    "\n",
    "# Barre de progression\n",
    "pbar = tqdm(total=total, desc=\"Téléchargement des données\")\n",
    "\n",
    "while offset < total:\n",
    "    params = {\n",
    "        \"resource_id\": resource_id,\n",
    "        \"limit\": limit,\n",
    "        \"offset\": offset\n",
    "    }\n",
    "    response = requests.get(url, params=params)\n",
    "    data = response.json()\n",
    "\n",
    "    if not data.get(\"success\"):\n",
    "        print(\"Erreur dans la requête :\", data)\n",
    "        break\n",
    "\n",
    "    records = data[\"result\"][\"records\"]\n",
    "    all_records.extend(records)\n",
    "    offset += limit\n",
    "    pbar.update(len(records))\n",
    "\n",
    "pbar.close()\n",
    "\n",
    "# Création du DataFrame final\n",
    "df_park = pd.DataFrame(all_records)\n",
    "print(f\"Téléchargement terminé. {df_park.shape[0]} lignes au total.\")"
   ]
  },
  {
   "cell_type": "code",
   "execution_count": 4,
   "id": "55984574",
   "metadata": {},
   "outputs": [
    {
     "name": "stdout",
     "output_type": "stream",
     "text": [
      "Fichier CSV sauvegardé : park.csv\n"
     ]
    }
   ],
   "source": [
    "# Sauvegarde du fichier\n",
    "df_park.to_csv(os.path.join(OUTPUT_DIR, \"park.csv\"),index=False)\n",
    "print(\"Fichier CSV sauvegardé : park.csv\")"
   ]
  }
 ],
 "metadata": {
  "kernelspec": {
   "display_name": "prkng-mtl-o2MIPe8o-py3.11",
   "language": "python",
   "name": "python3"
  },
  "language_info": {
   "codemirror_mode": {
    "name": "ipython",
    "version": 3
   },
   "file_extension": ".py",
   "mimetype": "text/x-python",
   "name": "python",
   "nbconvert_exporter": "python",
   "pygments_lexer": "ipython3",
   "version": "3.11.7"
  }
 },
 "nbformat": 4,
 "nbformat_minor": 5
}
