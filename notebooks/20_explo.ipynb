{
 "cells": [
  {
   "cell_type": "code",
   "execution_count": null,
   "id": "fc4cc55e",
   "metadata": {},
   "outputs": [],
   "source": [
    "# This file is part of the prkng_mtl project.\n",
    "#\n",
    "# Copyright (C) 2025 coklacour\n",
    "#\n",
    "# The prkng_mtl project is free software: you can redistribute it and/or modify\n",
    "# it under the terms of the GNU General Public License as published by\n",
    "# the Free Software Foundation, either version 3 of the License, or\n",
    "# (at your option) any later version.\n",
    "#\n",
    "# The prkng_mtl project is distributed in the hope that it will be useful,\n",
    "# but WITHOUT ANY WARRANTY; without even the implied warranty of\n",
    "# MERCHANTABILITY or FITNESS FOR A PARTICULAR PURPOSE.  See the\n",
    "# GNU General Public License for more details.\n",
    "#\n",
    "# You should have received a copy of the GNU General Public License\n",
    "# along with this program.  If not, see <https://www.gnu.org/licenses/>."
   ]
  },
  {
   "cell_type": "markdown",
   "id": "17caecaf",
   "metadata": {},
   "source": [
    "Solution existante : https://donnees.montreal.ca/showcase/carte-curblr-de-montreal"
   ]
  },
  {
   "cell_type": "markdown",
   "id": "e89f4c61",
   "metadata": {},
   "source": [
    "## Packages"
   ]
  },
  {
   "cell_type": "code",
   "execution_count": null,
   "id": "6b78fd04",
   "metadata": {},
   "outputs": [],
   "source": [
    "import os\n",
    "import pandas as pd\n",
    "import numpy as np\n",
    "\n",
    "import folium\n",
    "from folium import plugins"
   ]
  },
  {
   "cell_type": "markdown",
   "id": "5f38a6a9",
   "metadata": {},
   "source": [
    "## Macro variables"
   ]
  },
  {
   "cell_type": "code",
   "execution_count": null,
   "id": "7f066579",
   "metadata": {},
   "outputs": [],
   "source": [
    "INPUT_DIR = os.path.dirname(os.path.abspath(''))+'/datas/raw/'\n",
    "OUTPUT_DIR= os.path.dirname(os.path.abspath(''))+'/reports/'"
   ]
  },
  {
   "cell_type": "markdown",
   "id": "d5046bee",
   "metadata": {},
   "source": [
    "## Import"
   ]
  },
  {
   "cell_type": "markdown",
   "id": "d20c1a47",
   "metadata": {},
   "source": [
    "Park"
   ]
  },
  {
   "cell_type": "code",
   "execution_count": null,
   "id": "66690a89",
   "metadata": {},
   "outputs": [],
   "source": [
    "park = pd.read_csv(INPUT_DIR+\"/park.csv\", sep=',')"
   ]
  },
  {
   "cell_type": "markdown",
   "id": "f3ea51a5",
   "metadata": {},
   "source": [
    "Geobase"
   ]
  },
  {
   "cell_type": "code",
   "execution_count": null,
   "id": "09149160",
   "metadata": {},
   "outputs": [],
   "source": [
    "geobase = pd.read_csv(INPUT_DIR+\"/geobase.csv\", sep=',')"
   ]
  },
  {
   "cell_type": "markdown",
   "id": "08834cb6",
   "metadata": {},
   "source": [
    "Geobase double"
   ]
  },
  {
   "cell_type": "code",
   "execution_count": null,
   "id": "0111a132",
   "metadata": {},
   "outputs": [],
   "source": [
    "double = pd.read_csv(INPUT_DIR+\"/double.csv\", sep=',')"
   ]
  },
  {
   "cell_type": "markdown",
   "id": "f0b3d8d0",
   "metadata": {},
   "source": [
    "Geobase noeuds"
   ]
  },
  {
   "cell_type": "code",
   "execution_count": null,
   "id": "bcfe65fa",
   "metadata": {},
   "outputs": [],
   "source": [
    "nodes = pd.read_csv(INPUT_DIR+\"/nodes.csv\", sep=',')"
   ]
  },
  {
   "cell_type": "markdown",
   "id": "5b75f080",
   "metadata": {},
   "source": [
    "## Exploration"
   ]
  },
  {
   "cell_type": "markdown",
   "id": "444fb127",
   "metadata": {},
   "source": [
    "### Panneaux"
   ]
  },
  {
   "cell_type": "markdown",
   "id": "7363e7d6",
   "metadata": {},
   "source": [
    "#### Manipulation"
   ]
  },
  {
   "cell_type": "markdown",
   "id": "fd1f9c5b",
   "metadata": {},
   "source": [
    "focus sur les panneaux du plateau mont royal"
   ]
  },
  {
   "cell_type": "code",
   "execution_count": null,
   "id": "4ad75aa2",
   "metadata": {},
   "outputs": [],
   "source": [
    "park['NOM_ARROND'].unique()"
   ]
  },
  {
   "cell_type": "code",
   "execution_count": null,
   "id": "a9a73e77",
   "metadata": {},
   "outputs": [],
   "source": [
    "plateau = park[park['NOM_ARROND'] == 'Le Plateau-Mont-Royal']\n",
    "plateau.head(2)"
   ]
  },
  {
   "cell_type": "markdown",
   "id": "96adcfbb",
   "metadata": {},
   "source": [
    "Y'a t'il des categories de panneaux a ne pas considerer dans le cadre de ce projet?"
   ]
  },
  {
   "cell_type": "code",
   "execution_count": null,
   "id": "c53eb5d7",
   "metadata": {},
   "outputs": [],
   "source": [
    "plateau['DESCRIPTION_CAT'].unique()"
   ]
  },
  {
   "cell_type": "code",
   "execution_count": null,
   "id": "74347063",
   "metadata": {},
   "outputs": [],
   "source": [
    "plateau.columns"
   ]
  },
  {
   "cell_type": "code",
   "execution_count": null,
   "id": "fb6ea70f",
   "metadata": {},
   "outputs": [],
   "source": [
    "print(\"Nombre de lignes concernant le Plateau :\", plateau.shape[0])\n",
    "print(\"Nombre de poteaux sur le Plateau :\", len(plateau['POTEAU_ID_POT'].unique()))\n",
    "print(\"Nombre de panneaux sur le Plateau :\", len(plateau['PANNEAU_ID_PAN'].unique()))"
   ]
  },
  {
   "cell_type": "code",
   "execution_count": null,
   "id": "42eb5998",
   "metadata": {},
   "outputs": [],
   "source": [
    "#park.groupby('POTEAU_ID_POT').size().sort_values(ascending=False)\n",
    "#plateau.groupby('POTEAU_ID_POT').size().loc[lambda x: x == 2]"
   ]
  },
  {
   "cell_type": "code",
   "execution_count": null,
   "id": "4fad3637",
   "metadata": {},
   "outputs": [],
   "source": [
    "plateau[plateau['POTEAU_ID_POT'] == 305837]"
   ]
  },
  {
   "cell_type": "markdown",
   "id": "b967356e",
   "metadata": {},
   "source": [
    "#### Vizualisation (pour le fun)"
   ]
  },
  {
   "cell_type": "code",
   "execution_count": null,
   "id": "faeb31ce",
   "metadata": {},
   "outputs": [],
   "source": [
    "res = plateau[['POTEAU_ID_POT','Longitude','Latitude','X','Y','NOM_ARROND', 'DESCRIPTION_CAT']].drop_duplicates()"
   ]
  },
  {
   "cell_type": "code",
   "execution_count": null,
   "id": "76d2b131",
   "metadata": {},
   "outputs": [],
   "source": [
    "# dictionnaire qui distingue les categories de stationement\n",
    "color_park_cat = {\n",
    "    'STATIONNEMENT': 'green',\n",
    "    'STAT-PANNONC.': 'orange',\n",
    "    'STAT-$': 'red'\n",
    "}\n",
    "\n",
    "# Centrer sur le Plateau\n",
    "m = folium.Map(location=[45.5271, -73.5804],  # Coordonnées du Plateau\n",
    "               tiles='cartodbpositron',       # Type de carte\n",
    "               min_zoom=10, max_zoom=20,      # Plage de zoom\n",
    "               zoom_start=14)                 # Zoom initial pour se concentrer sur le Plateau\n",
    "\n",
    "# Créer un MarkerCluster\n",
    "marker_cluster = plugins.MarkerCluster().add_to(m)\n",
    "\n",
    "# Boucle à travers les données du DataFrame 'park' et ajouter des marqueurs\n",
    "for idx, row in res.iterrows():\n",
    "    \n",
    "    # Contenu HTML pour le popup\n",
    "    popup_content = f\"\"\"\n",
    "    <div style=\"width: 200px; height: 100px;\">\n",
    "        <b>poteau_id_pot:</b> {row['POTEAU_ID_POT']}<br>\n",
    "        <b>Catégorie panneau:</b> {row['DESCRIPTION_CAT']}<br>\n",
    "    </div>\n",
    "    \"\"\"\n",
    "\n",
    "    popup = folium.Popup(popup_content, max_width=300)  # Largeur de la fenêtre popup\n",
    "\n",
    "    # Ajuster la couleur selon le type de stationement\n",
    "    icon_color = color_park_cat.get(row['DESCRIPTION_CAT'], 'gray') \n",
    "    \n",
    "    # Ajout du marqueur avec le popup personnalisé\n",
    "    folium.Marker(location=[row['Latitude'], row['Longitude']],             \n",
    "                  popup=popup,  \n",
    "                  icon=folium.Icon(color=icon_color)).add_to(marker_cluster)\n",
    "\n",
    "# Afficher la carte\n",
    "#m"
   ]
  },
  {
   "cell_type": "code",
   "execution_count": null,
   "id": "ed489351",
   "metadata": {},
   "outputs": [],
   "source": [
    "html_map = m._repr_html_()\n",
    "with open(OUTPUT_DIR+\"/panneaux.html\", \"w\") as file:\n",
    "    file.write(html_map)"
   ]
  },
  {
   "cell_type": "markdown",
   "id": "1cd7885d",
   "metadata": {},
   "source": [
    "### Geobase"
   ]
  },
  {
   "cell_type": "markdown",
   "id": "aff5797b",
   "metadata": {},
   "source": [
    "Focus sur la rue Mentana"
   ]
  },
  {
   "cell_type": "code",
   "execution_count": null,
   "id": "0f24427c",
   "metadata": {},
   "outputs": [],
   "source": [
    "geo_mentana = geobase[geobase['NOM_VOIE'].str.contains('Mentana')]\n",
    "geo_mentana.head(2)\n"
   ]
  },
  {
   "cell_type": "code",
   "execution_count": null,
   "id": "a841dc68",
   "metadata": {},
   "outputs": [],
   "source": [
    "geo_mentana[geo_mentana['ID_TRC'] == 1220158]"
   ]
  },
  {
   "cell_type": "code",
   "execution_count": null,
   "id": "4c30b16a",
   "metadata": {},
   "outputs": [],
   "source": [
    "dbl_mentana = double[double['NOM_VOIE'].str.contains('Mentana')]\n",
    "dbl_mentana[dbl_mentana['ID_TRC'] == 1220158]"
   ]
  },
  {
   "cell_type": "code",
   "execution_count": null,
   "id": "8df20936",
   "metadata": {},
   "outputs": [],
   "source": [
    "nodes.head(2)\n",
    "#[nodes['ID_VOIE'] == 301416]\n",
    "#nodes_mentana = nodes[nodes['NOM_VOIE'].str.contains('Mentana')]\n",
    "#nodes_mentana[nodes_mentana['ID_TRC'] == 1220158]"
   ]
  }
 ],
 "metadata": {
  "kernelspec": {
   "display_name": "prkng-mtl-o2MIPe8o-py3.11",
   "language": "python",
   "name": "python3"
  },
  "language_info": {
   "codemirror_mode": {
    "name": "ipython",
    "version": 3
   },
   "file_extension": ".py",
   "mimetype": "text/x-python",
   "name": "python",
   "nbconvert_exporter": "python",
   "pygments_lexer": "ipython3",
   "version": "3.11.7"
  }
 },
 "nbformat": 4,
 "nbformat_minor": 5
}
