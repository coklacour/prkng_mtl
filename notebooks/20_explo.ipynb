{
 "cells": [
  {
   "cell_type": "code",
   "execution_count": null,
   "id": "0",
   "metadata": {},
   "outputs": [],
   "source": [
    "# This file is part of the prkng_mtl project.\n",
    "#\n",
    "# Copyright (C) 2025 coklacour\n",
    "#\n",
    "# The prkng_mtl project is free software: you can redistribute it and/or modify\n",
    "# it under the terms of the GNU General Public License as published by\n",
    "# the Free Software Foundation, either version 3 of the License, or\n",
    "# (at your option) any later version.\n",
    "#\n",
    "# The prkng_mtl project is distributed in the hope that it will be useful,\n",
    "# but WITHOUT ANY WARRANTY; without even the implied warranty of\n",
    "# MERCHANTABILITY or FITNESS FOR A PARTICULAR PURPOSE.  See the\n",
    "# GNU General Public License for more details.\n",
    "#\n",
    "# You should have received a copy of the GNU General Public License\n",
    "# along with this program.  If not, see <https://www.gnu.org/licenses/>."
   ]
  },
  {
   "cell_type": "markdown",
   "id": "1",
   "metadata": {},
   "source": [
    "Solution existante : https://donnees.montreal.ca/showcase/carte-curblr-de-montreal"
   ]
  },
  {
   "cell_type": "markdown",
   "id": "2",
   "metadata": {},
   "source": [
    "## Packages"
   ]
  },
  {
   "cell_type": "code",
   "execution_count": null,
   "id": "3",
   "metadata": {},
   "outputs": [],
   "source": [
    "import os\n",
    "import pandas as pd\n",
    "import numpy as np\n",
    "import fiona\n",
    "import geopandas as gpd\n",
    "from shapely import wkt\n",
    "from shapely.geometry import Point\n",
    "\n",
    "import folium\n",
    "from folium import plugins"
   ]
  },
  {
   "cell_type": "markdown",
   "id": "4",
   "metadata": {},
   "source": [
    "## Macro variables"
   ]
  },
  {
   "cell_type": "code",
   "execution_count": null,
   "id": "5",
   "metadata": {},
   "outputs": [],
   "source": [
    "INPUT_DIR = os.path.dirname(os.path.abspath(''))+'/datas/raw/'\n",
    "OUTPUT_DIR= os.path.dirname(os.path.abspath(''))+'/reports/'"
   ]
  },
  {
   "cell_type": "markdown",
   "id": "6",
   "metadata": {},
   "source": [
    "## Import"
   ]
  },
  {
   "cell_type": "markdown",
   "id": "7",
   "metadata": {},
   "source": [
    "Réseau artériel administratif (RAAV)"
   ]
  },
  {
   "cell_type": "code",
   "execution_count": null,
   "id": "8",
   "metadata": {},
   "outputs": [],
   "source": [
    "fichier = INPUT_DIR + \"/reseau-arteriel-administratif-2023.gpkg\"\n",
    "raav = fiona.listlayers(fichier)\n",
    "gdf = gpd.read_file(fichier, layer=raav[0])"
   ]
  },
  {
   "cell_type": "markdown",
   "id": "9",
   "metadata": {},
   "source": [
    "Park"
   ]
  },
  {
   "cell_type": "code",
   "execution_count": null,
   "id": "10",
   "metadata": {},
   "outputs": [],
   "source": [
    "park = pd.read_csv(INPUT_DIR+\"/park.csv\", sep=',')"
   ]
  },
  {
   "cell_type": "markdown",
   "id": "11",
   "metadata": {},
   "source": [
    "Geobase"
   ]
  },
  {
   "cell_type": "code",
   "execution_count": null,
   "id": "12",
   "metadata": {},
   "outputs": [],
   "source": [
    "geobase = pd.read_csv(INPUT_DIR+\"/geobase.csv\", sep=',')"
   ]
  },
  {
   "cell_type": "markdown",
   "id": "13",
   "metadata": {},
   "source": [
    "Geobase double"
   ]
  },
  {
   "cell_type": "code",
   "execution_count": null,
   "id": "14",
   "metadata": {},
   "outputs": [],
   "source": [
    "double = pd.read_csv(INPUT_DIR+\"/double.csv\", sep=',')"
   ]
  },
  {
   "cell_type": "markdown",
   "id": "15",
   "metadata": {},
   "source": [
    "Geobase noeuds"
   ]
  },
  {
   "cell_type": "code",
   "execution_count": null,
   "id": "16",
   "metadata": {},
   "outputs": [],
   "source": [
    "nodes = pd.read_csv(INPUT_DIR+\"/nodes.csv\", sep=',')"
   ]
  },
  {
   "cell_type": "markdown",
   "id": "17",
   "metadata": {},
   "source": [
    "## Exploration"
   ]
  },
  {
   "cell_type": "markdown",
   "id": "18",
   "metadata": {},
   "source": [
    "### Panneaux"
   ]
  },
  {
   "cell_type": "markdown",
   "id": "19",
   "metadata": {},
   "source": [
    "#### Manipulation"
   ]
  },
  {
   "cell_type": "markdown",
   "id": "20",
   "metadata": {},
   "source": [
    "focus sur les panneaux du plateau mont royal"
   ]
  },
  {
   "cell_type": "code",
   "execution_count": null,
   "id": "21",
   "metadata": {},
   "outputs": [],
   "source": [
    "park['NOM_ARROND'].unique()"
   ]
  },
  {
   "cell_type": "code",
   "execution_count": null,
   "id": "22",
   "metadata": {},
   "outputs": [],
   "source": [
    "plateau = park[park['NOM_ARROND'] == 'Le Plateau-Mont-Royal']\n",
    "plateau.head(2)"
   ]
  },
  {
   "cell_type": "markdown",
   "id": "23",
   "metadata": {},
   "source": [
    "Y'a t'il des categories de panneaux a ne pas considerer dans le cadre de ce projet?"
   ]
  },
  {
   "cell_type": "code",
   "execution_count": null,
   "id": "24",
   "metadata": {},
   "outputs": [],
   "source": [
    "plateau['DESCRIPTION_CAT'].unique()"
   ]
  },
  {
   "cell_type": "code",
   "execution_count": null,
   "id": "25",
   "metadata": {},
   "outputs": [],
   "source": [
    "plateau.columns"
   ]
  },
  {
   "cell_type": "code",
   "execution_count": null,
   "id": "26",
   "metadata": {},
   "outputs": [],
   "source": [
    "print(\"Nombre de lignes concernant le Plateau :\", plateau.shape[0])\n",
    "print(\"Nombre de poteaux sur le Plateau :\", len(plateau['POTEAU_ID_POT'].unique()))\n",
    "print(\"Nombre de panneaux sur le Plateau :\", len(plateau['PANNEAU_ID_PAN'].unique()))"
   ]
  },
  {
   "cell_type": "code",
   "execution_count": null,
   "id": "27",
   "metadata": {},
   "outputs": [],
   "source": [
    "#park.groupby('POTEAU_ID_POT').size().sort_values(ascending=False)\n",
    "#plateau.groupby('POTEAU_ID_POT').size().loc[lambda x: x == 2]"
   ]
  },
  {
   "cell_type": "code",
   "execution_count": null,
   "id": "28",
   "metadata": {},
   "outputs": [],
   "source": [
    "plateau[plateau['POTEAU_ID_POT'] == 305837]"
   ]
  },
  {
   "cell_type": "markdown",
   "id": "29",
   "metadata": {},
   "source": [
    "#### Vizualisation (pour le fun)"
   ]
  },
  {
   "cell_type": "code",
   "execution_count": null,
   "id": "30",
   "metadata": {},
   "outputs": [],
   "source": [
    "res = plateau[['POTEAU_ID_POT','Longitude','Latitude','X','Y','NOM_ARROND', 'DESCRIPTION_CAT']].drop_duplicates()"
   ]
  },
  {
   "cell_type": "code",
   "execution_count": null,
   "id": "31",
   "metadata": {},
   "outputs": [],
   "source": [
    "# dictionnaire qui distingue les categories de stationement\n",
    "color_park_cat = {\n",
    "    'STATIONNEMENT': 'green',\n",
    "    'STAT-PANNONC.': 'orange',\n",
    "    'STAT-$': 'red'\n",
    "}\n",
    "\n",
    "# Centrer sur le Plateau\n",
    "m = folium.Map(location=[45.5271, -73.5804],  # Coordonnées du Plateau\n",
    "               tiles='cartodbpositron',       # Type de carte\n",
    "               min_zoom=10, max_zoom=20,      # Plage de zoom\n",
    "               zoom_start=14)                 # Zoom initial pour se concentrer sur le Plateau\n",
    "\n",
    "# Créer un MarkerCluster\n",
    "marker_cluster = plugins.MarkerCluster().add_to(m)\n",
    "\n",
    "# Boucle à travers les données du DataFrame 'park' et ajouter des marqueurs\n",
    "for idx, row in res.iterrows():\n",
    "    \n",
    "    # Contenu HTML pour le popup\n",
    "    popup_content = f\"\"\"\n",
    "    <div style=\"width: 200px; height: 100px;\">\n",
    "        <b>poteau_id_pot:</b> {row['POTEAU_ID_POT']}<br>\n",
    "        <b>Catégorie panneau:</b> {row['DESCRIPTION_CAT']}<br>\n",
    "    </div>\n",
    "    \"\"\"\n",
    "\n",
    "    popup = folium.Popup(popup_content, max_width=300)  # Largeur de la fenêtre popup\n",
    "\n",
    "    # Ajuster la couleur selon le type de stationement\n",
    "    icon_color = color_park_cat.get(row['DESCRIPTION_CAT'], 'gray') \n",
    "    \n",
    "    # Ajout du marqueur avec le popup personnalisé\n",
    "    folium.Marker(location=[row['Latitude'], row['Longitude']],             \n",
    "                  popup=popup,  \n",
    "                  icon=folium.Icon(color=icon_color)).add_to(marker_cluster)\n",
    "\n",
    "# Afficher la carte\n",
    "#m"
   ]
  },
  {
   "cell_type": "code",
   "execution_count": null,
   "id": "32",
   "metadata": {},
   "outputs": [],
   "source": [
    "# html_map = m._repr_html_()\n",
    "# with open(OUTPUT_DIR+\"/panneaux.html\", \"w\") as file:\n",
    "#     file.write(html_map)"
   ]
  },
  {
   "cell_type": "markdown",
   "id": "33",
   "metadata": {},
   "source": [
    "### Geobase"
   ]
  },
  {
   "cell_type": "markdown",
   "id": "34",
   "metadata": {},
   "source": [
    "Focus sur la rue Mentana"
   ]
  },
  {
   "cell_type": "code",
   "execution_count": null,
   "id": "35",
   "metadata": {},
   "outputs": [],
   "source": [
    "geo_mentana = geobase[geobase['NOM_VOIE'].str.contains('Mentana')]\n",
    "geo_mentana.head(2)\n"
   ]
  },
  {
   "cell_type": "code",
   "execution_count": null,
   "id": "36",
   "metadata": {},
   "outputs": [],
   "source": [
    "geo_mentana[geo_mentana['ID_TRC'] == 1220158]"
   ]
  },
  {
   "cell_type": "code",
   "execution_count": null,
   "id": "37",
   "metadata": {},
   "outputs": [],
   "source": [
    "dbl_mentana = double[double['NOM_VOIE'].str.contains('Mentana')]\n",
    "dbl_mentana[dbl_mentana['ID_TRC'] == 1220158]"
   ]
  },
  {
   "cell_type": "code",
   "execution_count": null,
   "id": "38",
   "metadata": {},
   "outputs": [],
   "source": [
    "nodes.head(5)"
   ]
  },
  {
   "cell_type": "markdown",
   "id": "39",
   "metadata": {},
   "source": [
    "Convertir la colonne 'geometry' en objets géométriques shapely"
   ]
  },
  {
   "cell_type": "code",
   "execution_count": null,
   "id": "40",
   "metadata": {},
   "outputs": [],
   "source": [
    "nodes = nodes.rename(columns={'GEOMETRY': 'geometry'})\n",
    "nodes['geometry'] = nodes['geometry'].apply(wkt.loads)\n"
   ]
  },
  {
   "cell_type": "markdown",
   "id": "41",
   "metadata": {},
   "source": [
    "### Réseau artériel administratif (RAAV)"
   ]
  },
  {
   "cell_type": "markdown",
   "id": "42",
   "metadata": {},
   "source": [
    "#### Manipulation"
   ]
  },
  {
   "cell_type": "markdown",
   "id": "43",
   "metadata": {},
   "source": [
    "Focus sur la rue Mentana"
   ]
  },
  {
   "cell_type": "code",
   "execution_count": null,
   "id": "44",
   "metadata": {},
   "outputs": [],
   "source": [
    "gdf_mentana = gdf[gdf['NOM_VOIE'].str.contains('Mentana')]\n",
    "gdf_mentana.head(2)"
   ]
  },
  {
   "cell_type": "code",
   "execution_count": null,
   "id": "45",
   "metadata": {},
   "outputs": [],
   "source": [
    "print(\"Nombre de lignes concernant la rue Mentana :\", gdf_mentana.shape[0])\n",
    "print(\"Nombre de troncons sur la rue Mentana :\", len(gdf_mentana['ID_TRC'].unique()))"
   ]
  },
  {
   "cell_type": "code",
   "execution_count": null,
   "id": "46",
   "metadata": {},
   "outputs": [],
   "source": [
    "# convertir ton GeoDataFrame vers le système attendu par Folium (EPSG:4326)\n",
    "gdf_mentana = gdf_mentana.to_crs(epsg=4326)"
   ]
  },
  {
   "cell_type": "markdown",
   "id": "47",
   "metadata": {},
   "source": [
    "Pour chaque ID_TRC, ajouter les numéros civiques réels situé au début / fin à la gauche / droite du tronçon"
   ]
  },
  {
   "cell_type": "code",
   "execution_count": null,
   "id": "48",
   "metadata": {},
   "outputs": [],
   "source": [
    "gdf_mentana.shape[0]"
   ]
  },
  {
   "cell_type": "code",
   "execution_count": null,
   "id": "49",
   "metadata": {},
   "outputs": [],
   "source": [
    "cols = ['ID_TRC', 'DEB_GCH', 'FIN_GCH', 'DEB_DRT', 'FIN_DRT']\n",
    "gdf_mentana['ID_TRC'] = gdf_mentana['ID_TRC'].astype(int)\n",
    "\n",
    "gdf_mentana = gdf_mentana.merge(\n",
    "    geo_mentana[cols],\n",
    "    on='ID_TRC',\n",
    "    how='left'\n",
    ")\n",
    "\n",
    "gdf_mentana.shape[0]"
   ]
  },
  {
   "cell_type": "markdown",
   "id": "50",
   "metadata": {},
   "source": [
    "Identifier les noeuds sur la rue Mentana"
   ]
  },
  {
   "cell_type": "code",
   "execution_count": null,
   "id": "51",
   "metadata": {},
   "outputs": [],
   "source": [
    "nodes.head(2)"
   ]
  },
  {
   "cell_type": "code",
   "execution_count": null,
   "id": "52",
   "metadata": {},
   "outputs": [],
   "source": [
    "nodes.shape[0]"
   ]
  },
  {
   "cell_type": "code",
   "execution_count": null,
   "id": "53",
   "metadata": {},
   "outputs": [],
   "source": [
    "# Transformer en GeoDataFrame\n",
    "nodes = gpd.GeoDataFrame(nodes, geometry='geometry', crs=gdf_mentana.crs)\n",
    "\n",
    "# Fusionner toutes les géométries de gdf_mentana en une seule (polylignes)\n",
    "zone_mentana = gdf_mentana.geometry.union_all()\n",
    "\n",
    "\n",
    "# Option 1 : garder les points qui **touchent ou croisent** les lignes\n",
    "#nodes_mentana = nodes[nodes.geometry.intersects(zone_mentana)]\n",
    "\n",
    "# Option 2 (plus souple) : rendre l'intersection plus permissive\n",
    "zone_mentana_buffered = zone_mentana.buffer(0.0001)\n",
    "nodes_mentana = nodes[nodes.geometry.intersects(zone_mentana_buffered)]"
   ]
  },
  {
   "cell_type": "code",
   "execution_count": null,
   "id": "54",
   "metadata": {},
   "outputs": [],
   "source": [
    "nodes_mentana.shape[0]"
   ]
  },
  {
   "cell_type": "markdown",
   "id": "55",
   "metadata": {},
   "source": [
    "Identifier les panneaux sur la rue Mentana"
   ]
  },
  {
   "cell_type": "code",
   "execution_count": null,
   "id": "56",
   "metadata": {},
   "outputs": [],
   "source": [
    "# Créer une colonne geometry à partir des coordonnées\n",
    "park[\"geometry\"] = park.apply(lambda row: Point(row[\"Longitude\"], row[\"Latitude\"]), axis=1)\n",
    "park = gpd.GeoDataFrame(park, geometry=\"geometry\", crs=gdf_mentana.crs)\n",
    "\n",
    "# Fusionner toutes les géométries de gdf_mentana en une seule (polylignes)\n",
    "zone_mentana = gdf_mentana.geometry.union_all()\n",
    "\n",
    "# Option 1 : garder les panneaux qui **touchent ou croisent** les lignes\n",
    "#park_mentana = park[park.geometry.intersects(zone_mentana)]\n",
    "\n",
    "# Option 2 (plus souple) : rendre l'intersection plus permissive\n",
    "zone_mentana_buffered = zone_mentana.buffer(0.0001)\n",
    "park_mentana = park[park.geometry.intersects(zone_mentana_buffered)]"
   ]
  },
  {
   "cell_type": "code",
   "execution_count": null,
   "id": "57",
   "metadata": {},
   "outputs": [],
   "source": [
    "park_mentana.shape[0]"
   ]
  },
  {
   "cell_type": "markdown",
   "id": "58",
   "metadata": {},
   "source": [
    "#### Vizualisation (pour le fun)"
   ]
  },
  {
   "cell_type": "code",
   "execution_count": null,
   "id": "59",
   "metadata": {},
   "outputs": [],
   "source": [
    "# Centrer sur le Plateau\n",
    "m = folium.Map(location=[45.5271, -73.5804],  # Coordonnées du Plateau\n",
    "               tiles='cartodbpositron',       # Type de carte\n",
    "               min_zoom=10, max_zoom=20,      # Plage de zoom\n",
    "               zoom_start=14)                 # Zoom initial pour se concentrer sur le Plateau\n",
    "\n",
    "# Boucle à travers les données du DataFrame 'gdf_mentana' et ajouter des marqueurs\n",
    "for idx, row in gdf_mentana.iterrows():\n",
    "    if row.geometry.geom_type == 'LineString':\n",
    "        # Extraire les coordonnées de la LineString\n",
    "        coords = [(pt[1], pt[0]) for pt in row.geometry.coords]  # (lat, lon)\n",
    "\n",
    "        # Popup personnalisé\n",
    "        popup_content = f\"\"\"\n",
    "        <b>ID_TRC:</b> {row['ID_TRC']}<br>\n",
    "        <b>Numéros civiques gauche:</b> ({row['DEB_GCH']} - {row['FIN_GCH']})<br>\n",
    "        <b>Numéros civiques droite:</b> ({row['DEB_DRT']} - {row['FIN_DRT']})\n",
    "        \"\"\"\n",
    "        popup = folium.Popup(popup_content, max_width=300)\n",
    "\n",
    "        # Ajouter la ligne à la carte\n",
    "        folium.PolyLine(locations=coords, color='blue', weight=3, popup=popup).add_to(m)\n",
    "\n",
    "# Boucle à travers les données du DataFrame 'nodes_mentana' et ajouter des marqueurs\n",
    "for pt in nodes_mentana.geometry:\n",
    "    folium.CircleMarker(location=[pt.y, pt.x], radius=3, color='red').add_to(m)\n",
    "    \n",
    "# Boucle à travers les données du DataFrame 'park_mentana' et ajouter des marqueurs\n",
    "for pt in park_mentana.geometry:\n",
    "    folium.CircleMarker(location=[pt.y, pt.x], radius=3, color='green').add_to(m)\n",
    "\n",
    "# Afficher la carte\n",
    "m"
   ]
  },
  {
   "cell_type": "code",
   "execution_count": null,
   "id": "60",
   "metadata": {},
   "outputs": [],
   "source": [
    "park_mentana"
   ]
  },
  {
   "cell_type": "code",
   "execution_count": null,
   "id": "61",
   "metadata": {},
   "outputs": [],
   "source": []
  }
 ],
 "metadata": {
  "kernelspec": {
   "display_name": "prkng-mtl-o2MIPe8o-py3.11",
   "language": "python",
   "name": "python3"
  },
  "language_info": {
   "codemirror_mode": {
    "name": "ipython",
    "version": 3
   },
   "file_extension": ".py",
   "mimetype": "text/x-python",
   "name": "python",
   "nbconvert_exporter": "python",
   "pygments_lexer": "ipython3",
   "version": "3.11.7"
  }
 },
 "nbformat": 4,
 "nbformat_minor": 5
}
